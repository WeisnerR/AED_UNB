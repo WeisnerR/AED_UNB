{
 "cells": [
  {
   "cell_type": "code",
   "execution_count": 1,
   "metadata": {},
   "outputs": [],
   "source": [
    "import pandas as pd\n",
    "import numpy as np\n",
    "from datetime import datetime\n",
    "from random import sample"
   ]
  },
  {
   "cell_type": "code",
   "execution_count": null,
   "metadata": {},
   "outputs": [],
   "source": []
  },
  {
   "cell_type": "code",
   "execution_count": null,
   "metadata": {},
   "outputs": [],
   "source": [
    "# Variáveis globais\n",
    "m = 0\n",
    "T = []\n",
    "colisoes = 0"
   ]
  },
  {
   "cell_type": "code",
   "execution_count": 2,
   "metadata": {},
   "outputs": [],
   "source": [
    "class No:\n",
    "  def __init__(self, estado=None, chave=None, proximo=None ):\n",
    "    self.estado  = 0 #vazio\n",
    "    self.chave   = chave\n",
    "    self.proximo = proximo\n",
    "\n",
    "  def __str__(self):\n",
    "    return str(self.carga)"
   ]
  },
  {
   "cell_type": "code",
   "execution_count": 3,
   "metadata": {},
   "outputs": [],
   "source": [
    "def h(x):\n",
    "    global m\n",
    "    return x % m"
   ]
  },
  {
   "cell_type": "code",
   "execution_count": 4,
   "metadata": {},
   "outputs": [],
   "source": [
    "def insere( chave ):\n",
    "    global T\n",
    "    global colisoes\n",
    "    posicao = h(chave)\n",
    "    \n",
    "    if ( T[posicao].estado == 0 ) or ( T[posicao].estado == 2 ):\n",
    "        #print(posicao , 'ok')\n",
    "        T[posicao].chave  = chave\n",
    "        T[posicao].estado = 1\n",
    "    else:\n",
    "        #print(posicao , 'colisão')\n",
    "        colisoes += 1\n",
    "        posicao = len(T)-1\n",
    "        while T[posicao].estado == 1:\n",
    "            #print(posicao , 'colisão')\n",
    "            colisoes += 1\n",
    "            posicao -= 1   \n",
    "        #print(posicao , 'ok')\n",
    "        T[posicao].chave = chave\n",
    "        T[posicao].estado = 1"
   ]
  },
  {
   "cell_type": "code",
   "execution_count": 5,
   "metadata": {},
   "outputs": [
    {
     "name": "stdout",
     "output_type": "stream",
     "text": [
      "100  -  2136  -  0:00:00\n",
      "200  -  8828  -  0:00:00.001563\n",
      "300  -  19853  -  0:00:00.004385\n",
      "400  -  34436  -  0:00:00.005644\n",
      "500  -  54858  -  0:00:00.008457\n",
      "600  -  77223  -  0:00:00.012332\n",
      "700  -  107119  -  0:00:00.017693\n",
      "800  -  139297  -  0:00:00.022671\n",
      "900  -  176832  -  0:00:00.028179\n",
      "1000  -  217983  -  0:00:00.034494\n",
      "1100  -  265678  -  0:00:00.041973\n",
      "1200  -  317743  -  0:00:00.049780\n",
      "1300  -  368962  -  0:00:00.058613\n",
      "1400  -  428225  -  0:00:00.067540\n",
      "1500  -  495120  -  0:00:00.079068\n",
      "1600  -  555978  -  0:00:00.087864\n",
      "1700  -  628753  -  0:00:00.099028\n",
      "1800  -  714133  -  0:00:00.112243\n",
      "1900  -  792211  -  0:00:00.124474\n",
      "2000  -  874436  -  0:00:00.135694\n",
      "2100  -  952924  -  0:00:00.149355\n",
      "2200  -  1051255  -  0:00:00.162949\n",
      "2300  -  1155525  -  0:00:00.181578\n",
      "2400  -  1253638  -  0:00:00.196419\n",
      "2500  -  1362879  -  0:00:00.213370\n",
      "2600  -  1481422  -  0:00:00.232928\n",
      "2700  -  1596307  -  0:00:00.247233\n",
      "2800  -  1721971  -  0:00:00.270316\n",
      "2900  -  1834719  -  0:00:00.285829\n",
      "3000  -  1967611  -  0:00:00.309100\n",
      "3100  -  2122873  -  0:00:00.331348\n",
      "3200  -  2239051  -  0:00:00.365306\n",
      "3300  -  2376062  -  0:00:00.390743\n",
      "3400  -  2521312  -  0:00:00.413823\n",
      "3500  -  2671050  -  0:00:00.434950\n",
      "3600  -  2832579  -  0:00:00.467229\n",
      "3700  -  3005409  -  0:00:00.499165\n",
      "3800  -  3160911  -  0:00:00.522666\n",
      "3900  -  3313880  -  0:00:00.546895\n",
      "4000  -  3483799  -  0:00:00.567533\n",
      "4100  -  3662929  -  0:00:00.594370\n",
      "4200  -  3836541  -  0:00:00.620262\n",
      "4300  -  4052096  -  0:00:00.670211\n",
      "4400  -  4210713  -  0:00:00.686950\n",
      "4500  -  4426978  -  0:00:00.711004\n",
      "4600  -  4629275  -  0:00:00.749761\n",
      "4700  -  4823868  -  0:00:00.769256\n",
      "4800  -  5053079  -  0:00:00.797493\n",
      "4900  -  5252997  -  0:00:00.823287\n",
      "5000  -  5445149  -  0:00:00.855699\n",
      "5100  -  5658623  -  0:00:00.888673\n",
      "5200  -  5867370  -  0:00:00.918677\n",
      "5300  -  6141423  -  0:00:00.957159\n",
      "5400  -  6361237  -  0:00:00.985503\n",
      "5500  -  6614768  -  0:00:01.031281\n",
      "5600  -  6838154  -  0:00:01.060708\n",
      "5700  -  7107370  -  0:00:01.108334\n",
      "5800  -  7335310  -  0:00:01.156421\n",
      "5900  -  7587548  -  0:00:01.185730\n",
      "6000  -  7851496  -  0:00:01.225571\n",
      "6100  -  8127811  -  0:00:01.272221\n",
      "6200  -  8412755  -  0:00:01.326636\n",
      "6300  -  8640163  -  0:00:01.350916\n",
      "6400  -  8943480  -  0:00:01.389588\n",
      "6500  -  9195006  -  0:00:01.431852\n",
      "6600  -  9508036  -  0:00:01.483371\n",
      "6700  -  9796578  -  0:00:01.523269\n",
      "6800  -  10074070  -  0:00:01.563275\n",
      "6900  -  10415516  -  0:00:01.618762\n",
      "7000  -  10651124  -  0:00:01.659871\n",
      "7100  -  11057915  -  0:00:01.723184\n",
      "7200  -  11348530  -  0:00:01.764056\n",
      "7300  -  11667009  -  0:00:01.816279\n",
      "7400  -  11931211  -  0:00:01.857790\n",
      "7500  -  12285538  -  0:00:01.914315\n",
      "7600  -  12596085  -  0:00:01.956721\n",
      "7700  -  12946849  -  0:00:02.010950\n",
      "7800  -  13278965  -  0:00:02.056310\n",
      "7900  -  13666874  -  0:00:02.121995\n",
      "8000  -  14014493  -  0:00:02.171828\n",
      "8100  -  14301872  -  0:00:02.223362\n",
      "8200  -  14645119  -  0:00:02.272348\n",
      "8300  -  14996394  -  0:00:02.325284\n",
      "8400  -  15384128  -  0:00:02.405238\n",
      "8500  -  15802925  -  0:00:02.478861\n",
      "8600  -  16176001  -  0:00:02.513921\n",
      "8700  -  16470140  -  0:00:02.560263\n",
      "8800  -  16906537  -  0:00:02.625122\n",
      "8900  -  17296087  -  0:00:02.680260\n",
      "9000  -  17614768  -  0:00:02.730093\n",
      "9100  -  18003831  -  0:00:02.795586\n",
      "9200  -  18481387  -  0:00:02.873006\n",
      "9300  -  18846511  -  0:00:02.921565\n",
      "9400  -  19281608  -  0:00:02.994190\n",
      "9500  -  19731254  -  0:00:03.057348\n",
      "9600  -  20165155  -  0:00:03.137764\n",
      "9700  -  20512200  -  0:00:03.181204\n",
      "9800  -  21047790  -  0:00:03.263474\n",
      "9900  -  21372034  -  0:00:03.321092\n",
      "10000  -  21880393  -  0:00:03.396367\n"
     ]
    }
   ],
   "source": [
    "iteracoes  = 30\n",
    "valores    = range(100,10100,100)\n",
    "resultados = []\n",
    "for i in valores:\n",
    "    resultadosParciais = []\n",
    "    for iteração in range(iteracoes):\n",
    "        # inicializa variaveis e cria as chaves\n",
    "        m = i\n",
    "        colisoes = 0\n",
    "        chaves  = sample(range(50000000),m)\n",
    "\n",
    "        # cria a tabela\n",
    "        T = []\n",
    "        for j in range(m):\n",
    "            T.append( No(j) )  \n",
    "\n",
    "        # faz a inserção\n",
    "        antes = datetime.now()\n",
    "        for j in chaves:\n",
    "            insere( j )\n",
    "        depois = datetime.now()\n",
    "        \n",
    "        # grava resultado parcial\n",
    "        resultadosParciais.append([m,colisoes,depois-antes])\n",
    "        #print(iteração)\n",
    "\n",
    "    # calcula média de resultados\n",
    "    colisoes = 0\n",
    "    duracao  = resultadosParciais[0][2] - resultadosParciais[0][2]\n",
    "    for iteração in range(iteracoes):\n",
    "        colisoes = colisoes + resultadosParciais[iteração][1]\n",
    "        duracao  = duracao  + resultadosParciais[iteração][2]\n",
    "    colisoes = int(colisoes / iteracoes)\n",
    "    duracao  = duracao  / iteracoes\n",
    "    resultados.append([m,colisoes,duracao])\n",
    "    print( m , ' - ', colisoes, ' - ', duracao )"
   ]
  },
  {
   "cell_type": "code",
   "execution_count": null,
   "metadata": {},
   "outputs": [],
   "source": []
  },
  {
   "cell_type": "code",
   "execution_count": null,
   "metadata": {},
   "outputs": [],
   "source": []
  },
  {
   "cell_type": "code",
   "execution_count": null,
   "metadata": {},
   "outputs": [],
   "source": []
  },
  {
   "cell_type": "code",
   "execution_count": null,
   "metadata": {},
   "outputs": [],
   "source": []
  },
  {
   "cell_type": "code",
   "execution_count": null,
   "metadata": {},
   "outputs": [],
   "source": []
  },
  {
   "cell_type": "code",
   "execution_count": null,
   "metadata": {},
   "outputs": [],
   "source": []
  },
  {
   "cell_type": "code",
   "execution_count": null,
   "metadata": {},
   "outputs": [],
   "source": []
  },
  {
   "cell_type": "code",
   "execution_count": null,
   "metadata": {},
   "outputs": [],
   "source": []
  },
  {
   "cell_type": "code",
   "execution_count": null,
   "metadata": {},
   "outputs": [],
   "source": []
  },
  {
   "cell_type": "code",
   "execution_count": null,
   "metadata": {},
   "outputs": [],
   "source": []
  },
  {
   "cell_type": "code",
   "execution_count": null,
   "metadata": {},
   "outputs": [],
   "source": []
  },
  {
   "cell_type": "code",
   "execution_count": null,
   "metadata": {},
   "outputs": [],
   "source": []
  },
  {
   "cell_type": "code",
   "execution_count": null,
   "metadata": {},
   "outputs": [],
   "source": []
  },
  {
   "cell_type": "code",
   "execution_count": null,
   "metadata": {},
   "outputs": [],
   "source": []
  },
  {
   "cell_type": "code",
   "execution_count": null,
   "metadata": {},
   "outputs": [],
   "source": [
    "resultados[1][2]"
   ]
  },
  {
   "cell_type": "code",
   "execution_count": null,
   "metadata": {},
   "outputs": [],
   "source": [
    "print( m , ' - ', colisoes, ' - ', depois - antes )"
   ]
  },
  {
   "cell_type": "code",
   "execution_count": null,
   "metadata": {},
   "outputs": [],
   "source": [
    "colisoes = 0\n",
    "duracao  = resultados[1][2] - resultados[1][2]\n",
    "for i in range(iteracoes):\n",
    "    colisoes = colisoes + resultados[i][1]\n",
    "    duracao  = duracao  + resultados[i][2]\n",
    "colisoes = colisoes / iteracoes\n",
    "duracao  = duracao  / iteracoes\n",
    "resultados.append([m,colisoes,duracao])\n",
    "print(colisoes)\n",
    "print(duracao)"
   ]
  },
  {
   "cell_type": "code",
   "execution_count": null,
   "metadata": {},
   "outputs": [],
   "source": [
    "colisoes = 0\n",
    "duracao  = 0\n",
    "for i in range(iteracoes):\n",
    "    colisoes = colisoes + resultados[i][1]\n",
    "    duracao  = duracao  + resultados[i][2]\n",
    "colisoes = colisoes / iteracoes\n",
    "duracao  = duracao  / iteracoes\n",
    "print(colisoes)\n",
    "print(duracao)"
   ]
  },
  {
   "cell_type": "code",
   "execution_count": null,
   "metadata": {},
   "outputs": [],
   "source": [
    "for j in chaves:\n",
    "    print(j)"
   ]
  },
  {
   "cell_type": "code",
   "execution_count": null,
   "metadata": {},
   "outputs": [],
   "source": [
    "for i in valores:\n",
    "    print(i)\n",
    "    print(m)\n",
    "    print(chaves)"
   ]
  },
  {
   "cell_type": "code",
   "execution_count": null,
   "metadata": {},
   "outputs": [],
   "source": []
  },
  {
   "cell_type": "code",
   "execution_count": null,
   "metadata": {},
   "outputs": [],
   "source": [
    "resultados"
   ]
  },
  {
   "cell_type": "code",
   "execution_count": null,
   "metadata": {},
   "outputs": [],
   "source": [
    "%%time\n",
    "antes = datetime.now()\n",
    "for i in chaves:\n",
    "    insere( i )\n",
    "depois = datetime.now()\n",
    "print( depois - antes )"
   ]
  },
  {
   "cell_type": "code",
   "execution_count": null,
   "metadata": {},
   "outputs": [],
   "source": [
    "for i in range(m):\n",
    "    print( T[i].chave )"
   ]
  },
  {
   "cell_type": "code",
   "execution_count": null,
   "metadata": {},
   "outputs": [],
   "source": []
  },
  {
   "cell_type": "code",
   "execution_count": null,
   "metadata": {},
   "outputs": [],
   "source": []
  },
  {
   "cell_type": "code",
   "execution_count": null,
   "metadata": {},
   "outputs": [],
   "source": [
    "T[61].chave"
   ]
  },
  {
   "cell_type": "code",
   "execution_count": null,
   "metadata": {},
   "outputs": [],
   "source": [
    "for i in chaves:\n",
    "    print( h(i) )"
   ]
  },
  {
   "cell_type": "code",
   "execution_count": null,
   "metadata": {},
   "outputs": [],
   "source": [
    "i = 3\n",
    "print( T[i].estado  )\n",
    "print( T[i].chave   )\n",
    "print( T[i].proximo )"
   ]
  },
  {
   "cell_type": "code",
   "execution_count": null,
   "metadata": {},
   "outputs": [],
   "source": []
  },
  {
   "cell_type": "code",
   "execution_count": null,
   "metadata": {},
   "outputs": [],
   "source": [
    "# estados:\n",
    "# 0 = livre\n",
    "# 1 = ocupado\n",
    "# 2 = liberado\n",
    "\n",
    "# j indica o compartimento onde será efetuada a inserção. \n",
    "# Para efeitos da escolha de j, a tabela foi considerada como circular, isto é, o compartimento 0 é seguinte\n",
    "# ao m – 1.\n",
    "\n",
    "Insercao(x, end, a):\n",
    "    if a != 1:\n",
    "        if end != λ:\n",
    "            j = end\n",
    "        else:\n",
    "            i = 1\n",
    "            j = h(x)\n",
    "            while i <= m:\n",
    "                if T[j].estado = 1: #ocupado\n",
    "                    j = (j + 1) % m\n",
    "                    i = i + 1\n",
    "                else:\n",
    "                    i = m + 2 % compartimento não ocupado\n",
    "            if i = m + 1:\n",
    "                return -1 # “inserção inválida: overflow”\n",
    "            temp = T[j].pont % fusão de listas\n",
    "            T[ j ].pont    = T[h(x)].pont\n",
    "            T[ h(x) ].pont = temp\n",
    "        T[j].chave  = x % inserção de x\n",
    "        T[j].estado = 1 #ocupado\n",
    "    else:\n",
    "        return -2 # “inserção inválida: chave já existente”\n",
    "                    \n",
    "                    \n",
    "                \n",
    "\n",
    "\tse a ≠ 1 então\n",
    "\t\tse end ≠ λ então j := end\n",
    "\t\tsenão i := 1; j := h(x)\n",
    "\t\t\tenquanto i≤ m faça\n",
    "\t\t\t\tse T [j] . estado = ocupado então\n",
    "\t\t\t\t\tj := (j + 1) mod m\n",
    "\t\t\t\t\ti := i + 1       \n",
    "\t\t\t\tsenão i := m + 2 % compartimento não ocupado\n",
    "\t\t\tse i = m + 1 então “inserção inválida: overflow”; pare\n",
    "                \n",
    "\t\t\ttemp := T [j] . pont % fusão de listas\n",
    "\t\t\tT [j] . pont := T [h(x)] .pont\n",
    "\t\t\tT [h(x)] . pont := temp\n",
    "\t\tT [j] . chave := x % inserção de x\n",
    "\t\tT [j] . estado := ocupado\n",
    "\tsenão “inserção inválida: chave já existente”"
   ]
  },
  {
   "cell_type": "code",
   "execution_count": null,
   "metadata": {},
   "outputs": [],
   "source": []
  },
  {
   "cell_type": "code",
   "execution_count": null,
   "metadata": {},
   "outputs": [],
   "source": []
  },
  {
   "cell_type": "code",
   "execution_count": null,
   "metadata": {},
   "outputs": [],
   "source": [
    "Inserção(x, end, a)\n",
    "\tse a ≠ 1 então\n",
    "\t\tse end ≠ λ então j := end\n",
    "\t\tsenão i := 1; j := h(x)\n",
    "\t\t\tenquanto i≤ m faça\n",
    "\t\t\t\tse T [j] . estado = ocupado então\n",
    "\t\t\t\t\tj := (j + 1) mod m\n",
    "\t\t\t\t\ti := i + 1\n",
    "\t\t\t\tsenão i := m + 2 % compartimento não ocupado\n",
    "\t\t\tse i = m + 1 então “inserção inválida: overflow”; pare\n",
    "\t\t\ttemp := T [j] . pont % fusão de listas\n",
    "\t\t\tT [j] . pont := T [h(x)] .pont\n",
    "\t\t\tT [h(x)] . pont := temp\n",
    "\t\tT [j] . chave := x % inserção de x\n",
    "\t\tT [j] . estado := ocupado\n",
    "\tsenão “inserção inválida: chave já existente”"
   ]
  },
  {
   "cell_type": "code",
   "execution_count": null,
   "metadata": {},
   "outputs": [],
   "source": []
  },
  {
   "cell_type": "code",
   "execution_count": null,
   "metadata": {},
   "outputs": [],
   "source": []
  },
  {
   "cell_type": "code",
   "execution_count": null,
   "metadata": {},
   "outputs": [],
   "source": []
  },
  {
   "cell_type": "code",
   "execution_count": null,
   "metadata": {},
   "outputs": [],
   "source": []
  },
  {
   "cell_type": "code",
   "execution_count": null,
   "metadata": {},
   "outputs": [],
   "source": []
  },
  {
   "cell_type": "code",
   "execution_count": null,
   "metadata": {},
   "outputs": [],
   "source": []
  },
  {
   "cell_type": "code",
   "execution_count": null,
   "metadata": {},
   "outputs": [],
   "source": []
  },
  {
   "cell_type": "code",
   "execution_count": null,
   "metadata": {},
   "outputs": [],
   "source": []
  },
  {
   "cell_type": "code",
   "execution_count": null,
   "metadata": {},
   "outputs": [],
   "source": []
  },
  {
   "cell_type": "code",
   "execution_count": null,
   "metadata": {},
   "outputs": [],
   "source": []
  },
  {
   "cell_type": "code",
   "execution_count": null,
   "metadata": {},
   "outputs": [],
   "source": []
  },
  {
   "cell_type": "code",
   "execution_count": null,
   "metadata": {},
   "outputs": [],
   "source": []
  },
  {
   "cell_type": "code",
   "execution_count": null,
   "metadata": {},
   "outputs": [],
   "source": []
  },
  {
   "cell_type": "code",
   "execution_count": null,
   "metadata": {},
   "outputs": [],
   "source": []
  }
 ],
 "metadata": {
  "kernelspec": {
   "display_name": "Python 3",
   "language": "python",
   "name": "python3"
  },
  "language_info": {
   "codemirror_mode": {
    "name": "ipython",
    "version": 3
   },
   "file_extension": ".py",
   "mimetype": "text/x-python",
   "name": "python",
   "nbconvert_exporter": "python",
   "pygments_lexer": "ipython3",
   "version": "3.6.5"
  }
 },
 "nbformat": 4,
 "nbformat_minor": 2
}
